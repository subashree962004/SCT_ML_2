{
  "nbformat": 4,
  "nbformat_minor": 0,
  "metadata": {
    "colab": {
      "private_outputs": true,
      "provenance": []
    },
    "kernelspec": {
      "name": "python3",
      "display_name": "Python 3"
    },
    "language_info": {
      "name": "python"
    }
  },
  "cells": [
    {
      "cell_type": "code",
      "execution_count": null,
      "metadata": {
        "id": "FPycOHjrV2pr"
      },
      "outputs": [],
      "source": [
        "! pip install kaggle\n"
      ]
    },
    {
      "cell_type": "code",
      "source": [
        "from google.colab import drive\n",
        "drive.mount('/content/drive')\n",
        "\n"
      ],
      "metadata": {
        "id": "xEaRsU5SW56p"
      },
      "execution_count": null,
      "outputs": []
    },
    {
      "cell_type": "code",
      "source": [
        "!mkdir ~/.kaggle"
      ],
      "metadata": {
        "id": "vrzVinODXaTS"
      },
      "execution_count": null,
      "outputs": []
    },
    {
      "cell_type": "code",
      "source": [
        "! cp /content/drive/MyDrive/kaggle_API/kaggle.json.json ~/.kaggle/"
      ],
      "metadata": {
        "id": "Ce8t_BdJX5Kh"
      },
      "execution_count": null,
      "outputs": []
    },
    {
      "cell_type": "code",
      "source": [
        "! chmod 600 ~/.kaggle/kaggle.json"
      ],
      "metadata": {
        "id": "k8_nixx5YOIw"
      },
      "execution_count": null,
      "outputs": []
    },
    {
      "cell_type": "code",
      "source": [
        "! kaggle datasets download vjchoudhary7/customer-segmentation-tutorial-in-python"
      ],
      "metadata": {
        "id": "hq45vCcqZXjI"
      },
      "execution_count": null,
      "outputs": []
    },
    {
      "cell_type": "code",
      "source": [
        "! unzip customer-segmentation-tutorial-in-python.zip"
      ],
      "metadata": {
        "id": "0Req-sxWas6e"
      },
      "execution_count": null,
      "outputs": []
    },
    {
      "cell_type": "code",
      "source": [
        "import pandas as pd\n",
        "# Load the csv file\n",
        "Mall_Customers=pd.read_csv('/content/Mall_Customers.csv')\n",
        "print(Mall_Customers.head())\n"
      ],
      "metadata": {
        "id": "bBcoNYFPdRiK"
      },
      "execution_count": null,
      "outputs": []
    },
    {
      "cell_type": "code",
      "source": [
        "print(Mall_Customers.shape)"
      ],
      "metadata": {
        "id": "6JxHjn89etYS"
      },
      "execution_count": null,
      "outputs": []
    },
    {
      "cell_type": "code",
      "source": [
        "print(Mall_Customers.describe())"
      ],
      "metadata": {
        "id": "Ky5IfCu-e9DI"
      },
      "execution_count": null,
      "outputs": []
    },
    {
      "cell_type": "code",
      "source": [
        "print(Mall_Customers.isnull().sum())"
      ],
      "metadata": {
        "id": "EbEI3sn1fMCU"
      },
      "execution_count": null,
      "outputs": []
    },
    {
      "cell_type": "code",
      "source": [
        "print(Mall_Customers.info())"
      ],
      "metadata": {
        "id": "MUMic0b0fcoX"
      },
      "execution_count": null,
      "outputs": []
    },
    {
      "cell_type": "code",
      "source": [
        "x=Mall_Customers[['Age','Annual Income (k$)','Spending Score (1-100)']]\n",
        "# standardize the Data\n",
        "from sklearn.preprocessing import StandardScaler\n",
        "scaler=StandardScaler()\n",
        "x_scaled=scaler.fit_transform(x)"
      ],
      "metadata": {
        "id": "OSax9Mw-gDHS"
      },
      "execution_count": null,
      "outputs": []
    },
    {
      "cell_type": "code",
      "source": [
        "# import K-Means from sklearn\n",
        "from sklearn.cluster import KMeans\n"
      ],
      "metadata": {
        "id": "izNmtU-Chq87"
      },
      "execution_count": null,
      "outputs": []
    },
    {
      "cell_type": "code",
      "source": [
        "kmeans=KMeans(n_clusters=3,random_state=42)\n",
        "kmeans.fit(x_scaled)\n",
        "clusters=kmeans.predict(x_scaled)"
      ],
      "metadata": {
        "id": "6nae2uhkiFdw"
      },
      "execution_count": null,
      "outputs": []
    },
    {
      "cell_type": "code",
      "source": [
        "Mall_Customers['Cluster']=clusters\n",
        "print(Mall_Customers.head())"
      ],
      "metadata": {
        "id": "OGWmCcTSjQjk"
      },
      "execution_count": null,
      "outputs": []
    },
    {
      "cell_type": "code",
      "source": [
        "import matplotlib.pyplot as plt\n",
        "\n",
        "plt.scatter(x_scaled[:,1],x_scaled[:,2],c=clusters,cmap='rainbow')\n",
        "plt.xlabel('Annual Income (k$)')\n",
        "plt.ylabel('Spending Score (1-100)')\n",
        "plt.title('Customer Segments')\n",
        "plt.show()\n",
        "plt.scatter(x_scaled[:,1],x_scaled[:,2],c=clusters,cmap='viridis')\n",
        "plt.xlabel('Age')\n",
        "plt.ylabel('Spending Score (1-100)')\n",
        "plt.title('Customer Segments')\n",
        "plt.show()\n",
        "plt.scatter(x_scaled[:,1],x_scaled[:,2],c=clusters,cmap='viridis')\n",
        "plt.xlabel('Gender')\n",
        "plt.ylabel('Spending Score (1-100)')\n",
        "plt.title('Customer Segments')\n",
        "plt.show()"
      ],
      "metadata": {
        "id": "0f3H_2Dzj3pw"
      },
      "execution_count": null,
      "outputs": []
    },
    {
      "cell_type": "code",
      "source": [
        "print(kmeans.cluster_centers_)"
      ],
      "metadata": {
        "id": "tLl2ljUMnRr8"
      },
      "execution_count": null,
      "outputs": []
    },
    {
      "cell_type": "code",
      "source": [
        "print(Mall_Customers.groupby('Cluster').mean(numeric_only=True))"
      ],
      "metadata": {
        "id": "LagKZxlYwq23"
      },
      "execution_count": null,
      "outputs": []
    },
    {
      "cell_type": "code",
      "source": [
        "Mall_Customers.to_csv('Mall_Customers_with_clusters.csv',index=False)"
      ],
      "metadata": {
        "id": "7PlC06YU2zsM"
      },
      "execution_count": null,
      "outputs": []
    },
    {
      "cell_type": "code",
      "source": [
        "from google.colab import files\n",
        "files.download('Mall_Customers_with_clusters.csv')"
      ],
      "metadata": {
        "id": "jwqbd2Lp3RSK"
      },
      "execution_count": null,
      "outputs": []
    }
  ]
}